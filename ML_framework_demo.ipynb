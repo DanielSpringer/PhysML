{
 "cells": [
  {
   "cell_type": "code",
   "execution_count": null,
   "metadata": {},
   "outputs": [],
   "source": [
    "%pip install -r requirements.txt\n",
    "%pip install torch torchvision torchaudio --index-url https://download.pytorch.org/whl/cu121"
   ]
  },
  {
   "cell_type": "code",
   "execution_count": 1,
   "metadata": {},
   "outputs": [],
   "source": [
    "%load_ext autoreload\n",
    "%autoreload 2"
   ]
  },
  {
   "cell_type": "code",
   "execution_count": null,
   "metadata": {},
   "outputs": [],
   "source": [
    "from phys_ml.util import slurm_generate\n",
    "from phys_ml.trainer import TrainerModes, VertexTrainer\n",
    "from phys_ml.load_data.vertex import AutoEncoderVertexDataset"
   ]
  },
  {
   "cell_type": "markdown",
   "metadata": {},
   "source": [
    "### Create slurm-script"
   ]
  },
  {
   "cell_type": "code",
   "execution_count": null,
   "metadata": {},
   "outputs": [],
   "source": [
    "# generate slurm\n",
    "trainer_kwargs = {\n",
    "    'project_name': 'vertex', \n",
    "    'config_name': 'confmod_auto_encoder.json', \n",
    "    'subconfig_name': 'AUTO_ENCODER_VERTEX', \n",
    "    'config_kwargs': {\n",
    "        'path_train': '/gpfs/data/fs71925/shepp123/frgs',\n",
    "        'subset': 10, \n",
    "        'subset_shuffle': True, \n",
    "        'subset_seed': 42,\n",
    "    },\n",
    "}\n",
    "slurm_generate.create(project_name='vertex', script_name='vsc_test', \n",
    "                      pyenv_dir='/gpfs/data/fs71925/shepp123/anaconda3',\n",
    "                      trainer='VertexTrainer', trainer_kwargs=trainer_kwargs)\n"
   ]
  },
  {
   "cell_type": "code",
   "execution_count": null,
   "metadata": {},
   "outputs": [],
   "source": [
    "# create slurm- and train-script from config-file, using the default slurm-config name\n",
    "!python phys_ml/util/slurm_generate.py configs/confmod_auto_encoder.json"
   ]
  },
  {
   "cell_type": "code",
   "execution_count": null,
   "metadata": {},
   "outputs": [],
   "source": [
    "# create slurm- and train-script from config-file, specifying the name of the subsection containing the slurm-configs\n",
    "!python phys_ml/util/slurm_generate.py configs/confmod_auto_encoder.json SLURM_CONFIG_24X6"
   ]
  },
  {
   "cell_type": "markdown",
   "metadata": {},
   "source": [
    "# Demo: Vertex Autoencoder"
   ]
  },
  {
   "cell_type": "markdown",
   "metadata": {},
   "source": [
    "### Load data for inspection"
   ]
  },
  {
   "cell_type": "code",
   "execution_count": null,
   "metadata": {},
   "outputs": [
    {
     "name": "stdout",
     "output_type": "stream",
     "text": [
      "(576, 576, 576)\n"
     ]
    }
   ],
   "source": [
    "vertex = AutoEncoderVertexDataset.load_from_file(path='../frgs/tp0.020000_mu0.080000.h5')\n",
    "print(vertex.shape)"
   ]
  },
  {
   "cell_type": "markdown",
   "metadata": {},
   "source": [
    "### Training"
   ]
  },
  {
   "cell_type": "code",
   "execution_count": null,
   "metadata": {},
   "outputs": [],
   "source": [
    "trainer = VertexTrainer(project_name='vertex', config_name='confmod_auto_encoder.json', \n",
    "                        subconfig_name='AUTO_ENCODER_VERTEX', \n",
    "                        config_kwargs={'path_train': '/gpfs/data/fs71925/shepp123/frgs',\n",
    "                                       'sample_count_per_vertex': 2000, \n",
    "                                       'subset': 10})"
   ]
  },
  {
   "cell_type": "code",
   "execution_count": null,
   "metadata": {},
   "outputs": [],
   "source": [
    "trainer.train(train_mode=TrainerModes.JUPYTERGPU)"
   ]
  },
  {
   "cell_type": "code",
   "execution_count": null,
   "metadata": {},
   "outputs": [],
   "source": [
    "%load_ext tensorboard\n",
    "%tensorboard --logdir saves"
   ]
  },
  {
   "cell_type": "markdown",
   "metadata": {},
   "source": [
    "### Predict"
   ]
  },
  {
   "cell_type": "code",
   "execution_count": null,
   "metadata": {},
   "outputs": [],
   "source": [
    "# run a prediction, result will be stored in the saves-folder\n",
    "# works with a trained or untrained VertexTrainer\n",
    "pred = trainer.predict(new_data_path='../frgs/tp0.020000_mu0.080000.h5', \n",
    "                       save_path='save_AUTO_ENCODER_VERTEX_BS20_2024-11-25')\n",
    "pred.shape"
   ]
  },
  {
   "cell_type": "code",
   "execution_count": null,
   "metadata": {},
   "outputs": [],
   "source": [
    "# load already existing prediction\n",
    "pred = trainer.load_prediction(save_path='save_AUTO_ENCODER_VERTEX_BS20_2024-11-25/version_0')\n",
    "pred.shape"
   ]
  }
 ],
 "metadata": {
  "kernelspec": {
   "display_name": "ml24_1",
   "language": "python",
   "name": "ml24_1"
  },
  "language_info": {
   "codemirror_mode": {
    "name": "ipython",
    "version": 3
   },
   "file_extension": ".py",
   "mimetype": "text/x-python",
   "name": "python",
   "nbconvert_exporter": "python",
   "pygments_lexer": "ipython3",
   "version": "3.12.2"
  }
 },
 "nbformat": 4,
 "nbformat_minor": 2
}
